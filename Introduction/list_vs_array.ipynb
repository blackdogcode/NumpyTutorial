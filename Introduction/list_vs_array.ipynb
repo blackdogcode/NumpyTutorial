{
 "cells": [
  {
   "cell_type": "markdown",
   "source": [
    "https://www.geeksforgeeks.org/python-lists-vs-numpy-arrays/"
   ],
   "metadata": {
    "collapsed": false,
    "pycharm": {
     "name": "#%% md\n"
    }
   }
  },
  {
   "cell_type": "markdown",
   "source": [
    "## Python List vs Numpy Array"
   ],
   "metadata": {
    "collapsed": false,
    "pycharm": {
     "name": "#%% md\n"
    }
   }
  },
  {
   "cell_type": "markdown",
   "source": [
    "### Memory consumption between list and Numpy array"
   ],
   "metadata": {
    "collapsed": false,
    "pycharm": {
     "name": "#%% md\n"
    }
   }
  },
  {
   "cell_type": "code",
   "execution_count": 25,
   "outputs": [
    {
     "name": "stdout",
     "output_type": "stream",
     "text": [
      "---------Python List----------\n",
      "Size of each element in bytes: 48\n",
      "Size of whole element in bytes: 4800\n",
      "---------Numpy Array----------\n",
      "Size of each element in bytes: 4\n",
      "Size of whole elements in bytes: 400\n"
     ]
    }
   ],
   "source": [
    "import numpy as np\n",
    "import sys\n",
    "\n",
    "print('---------Python List----------')\n",
    "foo = range(100)\n",
    "print('Size of each element in bytes:', sys.getsizeof(foo))\n",
    "print('Size of whole element in bytes:', len(foo) * sys.getsizeof(foo))\n",
    "\n",
    "print('---------Numpy Array----------')\n",
    "bar = np.arange(100)\n",
    "print('Size of each element in bytes:', bar.itemsize)\n",
    "print('Size of whole elements in bytes:', bar.size * bar.itemsize)"
   ],
   "metadata": {
    "collapsed": false,
    "pycharm": {
     "name": "#%%\n"
    }
   }
  },
  {
   "cell_type": "markdown",
   "source": [
    "### Time comparison between Python list and Numpy array"
   ],
   "metadata": {
    "collapsed": false,
    "pycharm": {
     "name": "#%% md\n"
    }
   }
  },
  {
   "cell_type": "code",
   "execution_count": 33,
   "outputs": [
    {
     "name": "stdout",
     "output_type": "stream",
     "text": [
      "Time taken by list to perform multiplication:  4.359039306640625 seconds\n",
      "Time taken by numpy array to perform multiplication:  0.08876299858093262 seconds\n"
     ]
    }
   ],
   "source": [
    "import numpy as np\n",
    "import time\n",
    "\n",
    "size = 10000000\n",
    "\n",
    "list_foo = range(size)\n",
    "list_bar = range(size)\n",
    "\n",
    "nump_foo = np.arange(size)\n",
    "nump_bar = np.arange(size)\n",
    "\n",
    "initial_time = time.time()\n",
    "result_list = [(a * b) for a, b in zip(list_foo, list_bar)]\n",
    "print('Time taken by list to perform multiplication: ', (time.time() - initial_time), 'seconds')\n",
    "\n",
    "initial_time = time.time()\n",
    "result_nump = nump_foo * nump_bar\n",
    "print('Time taken by numpy array to perform multiplication: ', (time.time() - initial_time), 'seconds')"
   ],
   "metadata": {
    "collapsed": false,
    "pycharm": {
     "name": "#%%\n"
    }
   }
  },
  {
   "cell_type": "code",
   "execution_count": null,
   "outputs": [],
   "source": [],
   "metadata": {
    "collapsed": false,
    "pycharm": {
     "name": "#%%\n"
    }
   }
  }
 ],
 "metadata": {
  "kernelspec": {
   "display_name": "Python 3",
   "language": "python",
   "name": "python3"
  },
  "language_info": {
   "codemirror_mode": {
    "name": "ipython",
    "version": 2
   },
   "file_extension": ".py",
   "mimetype": "text/x-python",
   "name": "python",
   "nbconvert_exporter": "python",
   "pygments_lexer": "ipython2",
   "version": "2.7.6"
  }
 },
 "nbformat": 4,
 "nbformat_minor": 0
}