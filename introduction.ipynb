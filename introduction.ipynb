{
 "cells": [
  {
   "cell_type": "markdown",
   "source": [
    "### Basic Numpy Array Characteristics"
   ],
   "metadata": {
    "collapsed": false,
    "pycharm": {
     "name": "#%% md\n"
    }
   }
  },
  {
   "cell_type": "code",
   "execution_count": 2,
   "outputs": [
    {
     "name": "stdout",
     "output_type": "stream",
     "text": [
      "Array is of type:  <class 'numpy.ndarray'>\n",
      "No. of dimensions:  2\n",
      "Shape of array:  (2, 3)\n",
      "Size of array:  6\n",
      "Array stores elements of type int32\n"
     ]
    }
   ],
   "source": [
    "import numpy as np\n",
    "\n",
    "arr = np.array([[1, 2, 3],\n",
    "                [4, 2, 5]])\n",
    "\n",
    "print('Array is of type: ', type(arr))\n",
    "\n",
    "print('No. of dimensions: ', arr.ndim)\n",
    "\n",
    "print('Shape of array: ', arr.shape)\n",
    "\n",
    "# total number of elements of array\n",
    "print('Size of array: ', arr.size)\n",
    "\n",
    "print('Array stores elements of type', arr.dtype)"
   ],
   "metadata": {
    "collapsed": false,
    "pycharm": {
     "name": "#%%\n"
    }
   }
  },
  {
   "cell_type": "markdown",
   "source": [
    "### Array Creation"
   ],
   "metadata": {
    "collapsed": false,
    "pycharm": {
     "name": "#%% md\n"
    }
   }
  },
  {
   "cell_type": "code",
   "execution_count": 40,
   "outputs": [
    {
     "name": "stdout",
     "output_type": "stream",
     "text": [
      "---array creation using list---\n",
      "[[1. 2. 4.]\n",
      " [5. 8. 7.]]\n",
      "\n",
      "---array creation using tuple---\n",
      "[[1. 2. 3.]\n",
      " [5. 8. 7.]]\n",
      "\n",
      "---array creation initialized with zeros---\n",
      "[[0. 0. 0.]\n",
      " [0. 0. 0.]]\n",
      "\n",
      "---array creation initialized specific value which data type is complex number---\n",
      "[[6.+0.j 6.+0.j 6.+0.j]\n",
      " [6.+0.j 6.+0.j 6.+0.j]]\n",
      "\n",
      "--array creation initialized with random values\n",
      "[[0.83337259 0.78055917]\n",
      " [0.87371314 0.64745061]]\n",
      "\n",
      "---array creation of sequence of numbers i.e. like range() built-in python function---\n",
      "[ 0  5 10 15 20 25]\n",
      "\n",
      "---array creation of sequence of values evenly spaced---\n",
      "[0.         0.55555556 1.11111111 1.66666667 2.22222222 2.77777778\n",
      " 3.33333333 3.88888889 4.44444444 5.        ]\n",
      "\n",
      "---reshaping array---\n",
      "from\n",
      "[[1 2 3 4]\n",
      " [5 2 4 2]\n",
      " [1 2 0 1]]\n",
      "to\n",
      "[[[1 2 3]\n",
      "  [4 5 2]]\n",
      "\n",
      " [[4 2 1]\n",
      "  [2 0 1]]]\n",
      "---flatten array---\n",
      "from\n",
      "[[1 2 3]\n",
      " [4 5 6]]\n",
      "to\n",
      "[1 2 3 4 5 6]\n"
     ]
    }
   ],
   "source": [
    "import numpy as np\n",
    "\n",
    "print('---array creation using list---')\n",
    "a = np.array([[1, 2, 4],\n",
    "              [5, 8, 7]], dtype='float')\n",
    "print(f'{a}\\n')\n",
    "\n",
    "print('---array creation using tuple---')\n",
    "b = np.array(((1, 2, 3),\n",
    "             (5, 8, 7)), dtype='float')\n",
    "print(f'{b}\\n')\n",
    "\n",
    "print('---array creation initialized with zeros---')\n",
    "c = np.zeros((2, 3), dtype='float')\n",
    "print(f'{c}\\n')\n",
    "\n",
    "print('---array creation initialized specific value which data type is complex number---')\n",
    "d = np.full((2, 3), 6, dtype='complex')\n",
    "print(f'{d}\\n')\n",
    "\n",
    "print('--array creation initialized with random values')\n",
    "e = np.random.random((2, 2))\n",
    "print(f'{e}\\n')\n",
    "\n",
    "print('---array creation of sequence of numbers i.e. like range() built-in python function---')\n",
    "f = np.arange(0, 30, 5) # start, end, step\n",
    "print(f'{f}\\n')\n",
    "\n",
    "print('---array creation of sequence of values evenly spaced---')\n",
    "g = np.linspace(0, 5, 10)\n",
    "print(f'{g}\\n')\n",
    "\n",
    "# reshaping\n",
    "print('---reshaping array---')\n",
    "foo = np.array([[1, 2, 3, 4],\n",
    "                [5, 2, 4, 2],\n",
    "                [1, 2, 0, 1]])\n",
    "bar = foo.reshape(2, 2, 3)\n",
    "print('from')\n",
    "print(foo)\n",
    "print('to')\n",
    "print(bar)\n",
    "\n",
    "# flatten\n",
    "print('---flatten array---')\n",
    "baz = np.array([[1, 2, 3],\n",
    "                [4, 5, 6]])\n",
    "print('from')\n",
    "print(baz)\n",
    "print('to')\n",
    "flt = baz.flatten()\n",
    "print(flt)"
   ],
   "metadata": {
    "collapsed": false,
    "pycharm": {
     "name": "#%%\n"
    }
   }
  },
  {
   "cell_type": "markdown",
   "source": [
    "### Array Slicing and Indexing"
   ],
   "metadata": {
    "collapsed": false,
    "pycharm": {
     "name": "#%% md\n"
    }
   }
  },
  {
   "cell_type": "code",
   "execution_count": 9,
   "outputs": [
    {
     "name": "stdout",
     "output_type": "stream",
     "text": [
      "[[-1.  0.]\n",
      " [ 4.  6.]]\n",
      "\n",
      "Elements at indices (0, 3), (1, 2), (2, 1),(3, 0):\n",
      " [4. 6. 0. 3.]\n",
      "\n",
      "Elements greater than 0:\n",
      " [2.  4.  4.  6.  2.6 7.  8.  3.  4.  2. ]\n"
     ]
    }
   ],
   "source": [
    "import numpy as np\n",
    "\n",
    "arr = np.array([[-1, 2, 0, 4],\n",
    "               [4, -0.5, 6, 0],\n",
    "               [2.6, 0, 7, 8],\n",
    "               [3, -7, 4, 2.0]])\n",
    "\n",
    "# slicing array\n",
    "foo = arr[:2, ::2]\n",
    "print(foo)\n",
    "\n",
    "# integer array indexing\n",
    "bar = arr[[0, 1, 2, 3], [3, 2, 1, 0]]\n",
    "print (\"\\nElements at indices (0, 3), (1, 2), (2, 1),(3, 0):\\n\", bar)\n",
    "\n",
    "# boolean array indexing\n",
    "condition = arr > 0\n",
    "baz = arr[condition]\n",
    "print (\"\\nElements greater than 0:\\n\", baz)"
   ],
   "metadata": {
    "collapsed": false,
    "pycharm": {
     "name": "#%%\n"
    }
   }
  },
  {
   "cell_type": "markdown",
   "source": [
    "## Basic Operations"
   ],
   "metadata": {
    "collapsed": false,
    "pycharm": {
     "name": "#%% md\n"
    }
   },
   "outputs": []
  },
  {
   "cell_type": "markdown",
   "source": [
    "### Operation on single array"
   ],
   "metadata": {
    "collapsed": false,
    "pycharm": {
     "name": "#%% md\n"
    }
   }
  },
  {
   "cell_type": "code",
   "execution_count": 21,
   "outputs": [
    {
     "name": "stdout",
     "output_type": "stream",
     "text": [
      "[2 3 4 5 6]\n",
      "[0 1 2 3 4]\n",
      "[ 2  4  6  8 10]\n",
      "[ 1  4  9 16 25]\n",
      "\n",
      "[[1 2 3]\n",
      " [4 5 6]\n",
      " [7 8 9]]\n",
      "Transpose\n",
      "[[1 4 7]\n",
      " [2 5 8]\n",
      " [3 6 9]]\n"
     ]
    }
   ],
   "source": [
    "import numpy as np\n",
    "\n",
    "foo = np.array([1, 2, 3, 4, 5])\n",
    "\n",
    "# add 1 to every element\n",
    "print(f'{foo + 1}')\n",
    "\n",
    "# subtract 1 to every element\n",
    "print(f'{foo - 1}')\n",
    "\n",
    "# multiply 2 to every element\n",
    "print(f'{foo * 2}')\n",
    "\n",
    "# square each element\n",
    "print(f'{foo ** 2}\\n')\n",
    "\n",
    "# transpose\n",
    "bar = np.array([[1,2, 3],\n",
    "                [4, 5, 6],\n",
    "                [7, 8, 9]])\n",
    "print(bar)\n",
    "print('Transpose')\n",
    "print(bar.T)"
   ],
   "metadata": {
    "collapsed": false,
    "pycharm": {
     "name": "#%%\n"
    }
   }
  },
  {
   "cell_type": "code",
   "execution_count": null,
   "outputs": [],
   "source": [],
   "metadata": {
    "collapsed": false,
    "pycharm": {
     "name": "#%%\n"
    }
   }
  },
  {
   "cell_type": "code",
   "execution_count": null,
   "outputs": [],
   "source": [],
   "metadata": {
    "collapsed": false,
    "pycharm": {
     "name": "#%%\n"
    }
   }
  },
  {
   "cell_type": "code",
   "execution_count": 19,
   "outputs": [
    {
     "name": "stdout",
     "output_type": "stream",
     "text": [
      "[2 3 4 5 6]\n",
      "\n",
      "[0 1 2 3 4]\n",
      "\n",
      "[ 2  4  6  8 10]\n",
      "\n",
      "[ 1  4  9 16 25]\n",
      "\n",
      "[[1 2 3]\n",
      " [4 5 6]\n",
      " [7 8 9]]\n",
      "Transpose\n",
      "[[1 4 7]\n",
      " [2 5 8]\n",
      " [3 6 9]]\n"
     ]
    }
   ],
   "source": [],
   "metadata": {
    "collapsed": false,
    "pycharm": {
     "name": "#%%\n"
    }
   }
  }
 ],
 "metadata": {
  "kernelspec": {
   "display_name": "Python 3",
   "language": "python",
   "name": "python3"
  },
  "language_info": {
   "codemirror_mode": {
    "name": "ipython",
    "version": 2
   },
   "file_extension": ".py",
   "mimetype": "text/x-python",
   "name": "python",
   "nbconvert_exporter": "python",
   "pygments_lexer": "ipython2",
   "version": "2.7.6"
  }
 },
 "nbformat": 4,
 "nbformat_minor": 0
}