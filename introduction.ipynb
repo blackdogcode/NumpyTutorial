{
 "cells": [
  {
   "cell_type": "markdown",
   "source": [
    "## 1. Basic Numpy Array Characteristics"
   ],
   "metadata": {
    "collapsed": false,
    "pycharm": {
     "name": "#%% md\n"
    }
   }
  },
  {
   "cell_type": "code",
   "execution_count": 1,
   "outputs": [
    {
     "name": "stdout",
     "output_type": "stream",
     "text": [
      "Type of numpy array: <class 'numpy.ndarray'>\n",
      "No. of dimensions: 2\n",
      "Shape of array: (2, 3)\n",
      "No. of elements: 6\n",
      "Element type of array: int32\n"
     ]
    }
   ],
   "source": [
    "import numpy as np\n",
    "\n",
    "arr = np.array([[1, 2, 3],\n",
    "                [4, 2, 5]])\n",
    "\n",
    "print('Type of numpy array:', type(arr))\n",
    "\n",
    "print('No. of dimensions:', arr.ndim)\n",
    "\n",
    "print('Shape of array:', arr.shape)\n",
    "\n",
    "print('No. of elements:', arr.size)\n",
    "\n",
    "print('Element type of array:', arr.dtype)"
   ],
   "metadata": {
    "collapsed": false,
    "pycharm": {
     "name": "#%%\n"
    }
   }
  },
  {
   "cell_type": "markdown",
   "source": [
    "## 2. Array Creation"
   ],
   "metadata": {
    "collapsed": false,
    "pycharm": {
     "name": "#%% md\n"
    }
   }
  },
  {
   "cell_type": "code",
   "execution_count": 2,
   "outputs": [
    {
     "name": "stdout",
     "output_type": "stream",
     "text": [
      "---array creation using list---\n",
      "[[1. 2. 4.]\n",
      " [5. 8. 7.]]\n",
      "\n",
      "---array creation using tuple---\n",
      "[[1. 2. 3.]\n",
      " [5. 8. 7.]]\n",
      "\n",
      "---array creation initialized with zeros---\n",
      "[[0. 0. 0.]\n",
      " [0. 0. 0.]]\n",
      "\n",
      "---array creation initialized specific value which data type is complex number---\n",
      "[[6.+0.j 6.+0.j 6.+0.j]\n",
      " [6.+0.j 6.+0.j 6.+0.j]]\n",
      "\n",
      "--array creation initialized with random values\n",
      "[[0.26515316 0.35833154]\n",
      " [0.69470957 0.29252421]]\n",
      "\n",
      "---array creation of sequence of numbers i.e. like range() built-in python function---\n",
      "[ 0  5 10 15 20 25]\n",
      "\n",
      "---array creation of sequence of values evenly spaced---\n",
      "[0.         0.55555556 1.11111111 1.66666667 2.22222222 2.77777778\n",
      " 3.33333333 3.88888889 4.44444444 5.        ]\n",
      "\n",
      "---reshaping array---\n",
      "from\n",
      "[[1 2 3 4]\n",
      " [5 2 4 2]\n",
      " [1 2 0 1]]\n",
      "to\n",
      "[[[1 2 3]\n",
      "  [4 5 2]]\n",
      "\n",
      " [[4 2 1]\n",
      "  [2 0 1]]]\n",
      "---flatten array---\n",
      "from\n",
      "[[1 2 3]\n",
      " [4 5 6]]\n",
      "to\n",
      "[1 2 3 4 5 6]\n"
     ]
    }
   ],
   "source": [
    "import numpy as np\n",
    "\n",
    "print('---array creation using list---')\n",
    "a = np.array([[1, 2, 4],\n",
    "              [5, 8, 7]], dtype='float')\n",
    "print(f'{a}\\n')\n",
    "\n",
    "print('---array creation using tuple---')\n",
    "b = np.array(((1, 2, 3),\n",
    "             (5, 8, 7)), dtype='float')\n",
    "print(f'{b}\\n')\n",
    "\n",
    "print('---array creation initialized with zeros---')\n",
    "c = np.zeros((2, 3), dtype='float')\n",
    "print(f'{c}\\n')\n",
    "\n",
    "print('---array creation initialized specific value which data type is complex number---')\n",
    "d = np.full((2, 3), 6, dtype='complex')\n",
    "print(f'{d}\\n')\n",
    "\n",
    "print('--array creation initialized with random values')\n",
    "e = np.random.random((2, 2))\n",
    "print(f'{e}\\n')\n",
    "\n",
    "print('---array creation of sequence of numbers i.e. like range() built-in python function---')\n",
    "f = np.arange(0, 30, 5) # start, end, step\n",
    "print(f'{f}\\n')\n",
    "\n",
    "print('---array creation of sequence of values evenly spaced---')\n",
    "g = np.linspace(0, 5, 10)\n",
    "print(f'{g}\\n')\n",
    "\n",
    "# reshaping\n",
    "print('---reshaping array---')\n",
    "foo = np.array([[1, 2, 3, 4],\n",
    "                [5, 2, 4, 2],\n",
    "                [1, 2, 0, 1]])\n",
    "bar = foo.reshape(2, 2, 3)\n",
    "print('from')\n",
    "print(foo)\n",
    "print('to')\n",
    "print(bar)\n",
    "\n",
    "# flatten\n",
    "print('---flatten array---')\n",
    "baz = np.array([[1, 2, 3],\n",
    "                [4, 5, 6]])\n",
    "print('from')\n",
    "print(baz)\n",
    "print('to')\n",
    "flt = baz.flatten()\n",
    "print(flt)"
   ],
   "metadata": {
    "collapsed": false,
    "pycharm": {
     "name": "#%%\n"
    }
   }
  },
  {
   "cell_type": "markdown",
   "source": [
    "### Array Slicing and Indexing"
   ],
   "metadata": {
    "collapsed": false,
    "pycharm": {
     "name": "#%% md\n"
    }
   }
  },
  {
   "cell_type": "code",
   "execution_count": 3,
   "outputs": [
    {
     "name": "stdout",
     "output_type": "stream",
     "text": [
      "[[-1.  0.]\n",
      " [ 4.  6.]]\n",
      "\n",
      "Elements at indices (0, 3), (1, 2), (2, 1),(3, 0):\n",
      " [4. 6. 0. 3.]\n",
      "\n",
      "Elements greater than 0:\n",
      " [2.  4.  4.  6.  2.6 7.  8.  3.  4.  2. ]\n"
     ]
    }
   ],
   "source": [
    "import numpy as np\n",
    "\n",
    "arr = np.array([[-1, 2, 0, 4],\n",
    "               [4, -0.5, 6, 0],\n",
    "               [2.6, 0, 7, 8],\n",
    "               [3, -7, 4, 2.0]])\n",
    "\n",
    "# slicing array\n",
    "foo = arr[:2, ::2]\n",
    "print(foo)\n",
    "\n",
    "# integer array indexing\n",
    "bar = arr[[0, 1, 2, 3], [3, 2, 1, 0]]\n",
    "print (\"\\nElements at indices (0, 3), (1, 2), (2, 1),(3, 0):\\n\", bar)\n",
    "\n",
    "# boolean array indexing\n",
    "condition = arr > 0\n",
    "baz = arr[condition]\n",
    "print (\"\\nElements greater than 0:\\n\", baz)"
   ],
   "metadata": {
    "collapsed": false,
    "pycharm": {
     "name": "#%%\n"
    }
   }
  },
  {
   "cell_type": "markdown",
   "source": [
    "## 4. Basic Operations"
   ],
   "metadata": {
    "collapsed": false,
    "pycharm": {
     "name": "#%% md\n"
    }
   },
   "outputs": []
  },
  {
   "cell_type": "markdown",
   "source": [
    "### 4.1. Operation on single array"
   ],
   "metadata": {
    "collapsed": false,
    "pycharm": {
     "name": "#%% md\n"
    }
   }
  },
  {
   "cell_type": "code",
   "execution_count": 4,
   "outputs": [
    {
     "name": "stdout",
     "output_type": "stream",
     "text": [
      "[2 3 4 5 6]\n",
      "[0 1 2 3 4]\n",
      "[ 2  4  6  8 10]\n",
      "[ 1  4  9 16 25]\n",
      "\n",
      "[[1 2 3]\n",
      " [4 5 6]\n",
      " [7 8 9]]\n",
      "Transpose\n",
      "[[1 4 7]\n",
      " [2 5 8]\n",
      " [3 6 9]]\n"
     ]
    }
   ],
   "source": [
    "import numpy as np\n",
    "\n",
    "foo = np.array([1, 2, 3, 4, 5])\n",
    "\n",
    "# add 1 to every element\n",
    "print(f'{foo + 1}')\n",
    "\n",
    "# subtract 1 to every element\n",
    "print(f'{foo - 1}')\n",
    "\n",
    "# multiply 2 to every element\n",
    "print(f'{foo * 2}')\n",
    "\n",
    "# square each element\n",
    "print(f'{foo ** 2}\\n')\n",
    "\n",
    "# transpose\n",
    "bar = np.array([[1,2, 3],\n",
    "                [4, 5, 6],\n",
    "                [7, 8, 9]])\n",
    "print(bar)\n",
    "print('Transpose')\n",
    "print(bar.T)"
   ],
   "metadata": {
    "collapsed": false,
    "pycharm": {
     "name": "#%%\n"
    }
   }
  },
  {
   "cell_type": "markdown",
   "source": [
    "### 4.2. Unary Operators"
   ],
   "metadata": {
    "collapsed": false,
    "pycharm": {
     "name": "#%% md\n"
    }
   }
  },
  {
   "cell_type": "code",
   "execution_count": 8,
   "outputs": [
    {
     "name": "stdout",
     "output_type": "stream",
     "text": [
      "maximum elements: 9\n",
      "row-wise maximum elements: [6 7 9]\n",
      "column-wise maximum elements: [4 7 9]\n",
      "minimum elements: 1\n",
      "sum of all elements: 38\n",
      "sum of row-wise elements: [12 13 13]\n",
      "sum of column-wise elements: [ 8 13 17]\n",
      "Cumulative sum along each row:\n",
      " [[ 1  6 12]\n",
      " [ 4 11 13]\n",
      " [ 3  4 13]]\n"
     ]
    }
   ],
   "source": [
    "import numpy as np\n",
    "\n",
    "arr = np.array([[1, 5, 6],\n",
    "                [4, 7, 2],\n",
    "                [3, 1, 9]])\n",
    "\n",
    "print('maximum elements:', arr.max())\n",
    "print('row-wise maximum elements:', arr.max(axis=1))\n",
    "print('column-wise maximum elements:', arr.max(axis=0))\n",
    "\n",
    "print('minimum elements:', arr.min())\n",
    "print('sum of all elements:', arr.sum())\n",
    "print('sum of row-wise elements:',  arr.sum(axis=1))\n",
    "print('sum of column-wise elements:',  arr.sum(axis=0))\n",
    "print('Cumulative sum along each row:\\n', arr.cumsum(axis=1))"
   ],
   "metadata": {
    "collapsed": false,
    "pycharm": {
     "name": "#%%\n"
    }
   }
  },
  {
   "cell_type": "markdown",
   "source": [
    "### 4.3. Binary Operators"
   ],
   "metadata": {
    "collapsed": false,
    "pycharm": {
     "name": "#%% md\n"
    }
   }
  },
  {
   "cell_type": "code",
   "execution_count": 10,
   "outputs": [
    {
     "name": "stdout",
     "output_type": "stream",
     "text": [
      "Array Summation\n",
      " [[5 3]\n",
      " [6 8]]\n",
      "Array Multiplication: element-wise\n",
      " [[ 4  2]\n",
      " [ 8 15]]\n",
      "Array Division\n",
      " [[0.25       2.        ]\n",
      " [2.         1.66666667]]\n",
      "Matrix Multiplication\n",
      " [[ 8  7]\n",
      " [26 19]]\n"
     ]
    }
   ],
   "source": [
    "import numpy as np\n",
    "\n",
    "foo = np.array([[1, 2],\n",
    "                [4, 5]])\n",
    "\n",
    "bar = np.array([[4, 1],\n",
    "                [2, 3]])\n",
    "\n",
    "baz = foo + bar\n",
    "print('Array Summation\\n', baz)\n",
    "\n",
    "qux = foo * bar\n",
    "print('Array Multiplication: element-wise\\n', qux)\n",
    "\n",
    "tar = foo / bar\n",
    "print('Array Division\\n', tar)\n",
    "\n",
    "taz = foo.dot(bar)\n",
    "print('Matrix Multiplication\\n', taz)"
   ],
   "metadata": {
    "collapsed": false,
    "pycharm": {
     "name": "#%%\n"
    }
   }
  },
  {
   "cell_type": "markdown",
   "source": [
    "### 4.4 Universal Functions"
   ],
   "metadata": {
    "collapsed": false,
    "pycharm": {
     "name": "#%% md\n"
    }
   }
  },
  {
   "cell_type": "code",
   "execution_count": null,
   "outputs": [],
   "source": [
    "import numpy as np\n",
    "\n",
    "foo = np.array([0, np.pi/2, np.pi])\n",
    "print('Sine values of array elements', np.sin(foo))\n",
    "\n",
    "bar = np.array([0, 1, 2, 3])\n",
    "print('Exponent of array elements', np.exp(bar))\n",
    "\n",
    "print('Square root of array elements', np.sqrt(bar))"
   ],
   "metadata": {
    "collapsed": false,
    "pycharm": {
     "name": "#%%\n"
    }
   }
  },
  {
   "cell_type": "markdown",
   "source": [
    "## 5. Sorting Array"
   ],
   "metadata": {
    "collapsed": false,
    "pycharm": {
     "name": "#%% md\n"
    }
   }
  },
  {
   "cell_type": "code",
   "execution_count": 30,
   "outputs": [
    {
     "name": "stdout",
     "output_type": "stream",
     "text": [
      "Sorted Array:  [-1  0  1  2  3  4  4  5  6]\n",
      "Row-wise Sorted Array:\n",
      " [[ 1  2  4]\n",
      " [ 3  4  6]\n",
      " [-1  0  5]]\n",
      "Column-wise Sorted Array:\n",
      " [[ 0 -1  2]\n",
      " [ 1  4  5]\n",
      " [ 3  4  6]]\n",
      "(4,)\n",
      "Graduation GPA\n",
      " [(b'Hrithik', 2009, 8.6) (b'Ajay', 2008, 8.7) (b'Pankaj', 2008, 7.9)\n",
      " (b'Aakash', 2009, 9. )]\n",
      "Array Sorted by name\n",
      " [(b'Aakash', 2009, 9. ) (b'Ajay', 2008, 8.7) (b'Hrithik', 2009, 8.6)\n",
      " (b'Pankaj', 2008, 7.9)]\n",
      "Array sorted by graduation year and then gpa\n",
      " [(b'Pankaj', 2008, 7.9) (b'Ajay', 2008, 8.7) (b'Hrithik', 2009, 8.6)\n",
      " (b'Aakash', 2009, 9. )]\n"
     ]
    }
   ],
   "source": [
    "import numpy as np\n",
    "\n",
    "foo = np.array([[1, 4, 2],\n",
    "                [3, 4, 6],\n",
    "                [0, -1, 5]])\n",
    "\n",
    "# sorted array\n",
    "print('Sorted Array: ', np.sort(foo, axis=None))\n",
    "\n",
    "# sort array row-wise\n",
    "print('Row-wise Sorted Array:\\n', np.sort(foo, axis=1)) # axis=1 is default\n",
    "print('Column-wise Sorted Array:\\n', np.sort(foo, axis=0))\n",
    "\n",
    "values = [('Hrithik', 2009, 8.6), ('Ajay', 2008, 8.7),\n",
    "          ('Pankaj', 2008, 7.9), ('Aakash', 2009, 9.0)]\n",
    "\n",
    "dtypes = [('name', 'S10'), ('grad_year', int), ('gpa', float)]\n",
    "bar = np.array(values, dtype=dtypes)\n",
    "print(bar.shape)\n",
    "print('Graduation GPA\\n', bar)\n",
    "print('Array Sorted by name\\n', np.sort(bar, order='name'))\n",
    "print('Array sorted by graduation year and then gpa\\n', np.sort(bar, order = ['grad_year', 'gpa']))"
   ],
   "metadata": {
    "collapsed": false,
    "pycharm": {
     "name": "#%%\n"
    }
   }
  },
  {
   "cell_type": "code",
   "execution_count": null,
   "outputs": [],
   "source": [],
   "metadata": {
    "collapsed": false,
    "pycharm": {
     "name": "#%%\n"
    }
   }
  }
 ],
 "metadata": {
  "kernelspec": {
   "display_name": "Python 3",
   "language": "python",
   "name": "python3"
  },
  "language_info": {
   "codemirror_mode": {
    "name": "ipython",
    "version": 2
   },
   "file_extension": ".py",
   "mimetype": "text/x-python",
   "name": "python",
   "nbconvert_exporter": "python",
   "pygments_lexer": "ipython2",
   "version": "2.7.6"
  }
 },
 "nbformat": 4,
 "nbformat_minor": 0
}