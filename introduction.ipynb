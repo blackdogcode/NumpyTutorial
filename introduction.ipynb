{
 "cells": [
  {
   "cell_type": "markdown",
   "source": [
    "Basic Numpy Array Characteristics"
   ],
   "metadata": {
    "collapsed": false,
    "pycharm": {
     "name": "#%% md\n"
    }
   }
  },
  {
   "cell_type": "code",
   "execution_count": 39,
   "outputs": [
    {
     "name": "stdout",
     "output_type": "stream",
     "text": [
      "Array is of type:  <class 'numpy.ndarray'>\n",
      "No. of dimensions:  2\n",
      "Shape of array:  (2, 3)\n",
      "Size of array:  6\n",
      "Array stores elements of type int32\n"
     ]
    }
   ],
   "source": [
    "import numpy as np\n",
    "\n",
    "arr = np.array([[1, 2, 3],\n",
    "                [4, 2, 5]])\n",
    "\n",
    "print('Array is of type: ', type(arr))\n",
    "\n",
    "print('No. of dimensions: ', arr.ndim)\n",
    "\n",
    "print('Shape of array: ', arr.shape)\n",
    "\n",
    "print('Size of array: ', arr.size)\n",
    "\n",
    "print('Array stores elements of type', arr.dtype)"
   ],
   "metadata": {
    "collapsed": false,
    "pycharm": {
     "name": "#%%\n"
    }
   }
  },
  {
   "cell_type": "markdown",
   "source": [
    "Array Creation"
   ],
   "metadata": {
    "collapsed": false,
    "pycharm": {
     "name": "#%% md\n"
    }
   }
  },
  {
   "cell_type": "code",
   "execution_count": 40,
   "outputs": [
    {
     "name": "stdout",
     "output_type": "stream",
     "text": [
      "---array creation using list---\n",
      "[[1. 2. 4.]\n",
      " [5. 8. 7.]]\n",
      "\n",
      "---array creation using tuple---\n",
      "[[1. 2. 3.]\n",
      " [5. 8. 7.]]\n",
      "\n",
      "---array creation initialized with zeros---\n",
      "[[0. 0. 0.]\n",
      " [0. 0. 0.]]\n",
      "\n",
      "---array creation initialized specific value which data type is complex number---\n",
      "[[6.+0.j 6.+0.j 6.+0.j]\n",
      " [6.+0.j 6.+0.j 6.+0.j]]\n",
      "\n",
      "--array creation initialized with random values\n",
      "[[0.83337259 0.78055917]\n",
      " [0.87371314 0.64745061]]\n",
      "\n",
      "---array creation of sequence of numbers i.e. like range() built-in python function---\n",
      "[ 0  5 10 15 20 25]\n",
      "\n",
      "---array creation of sequence of values evenly spaced---\n",
      "[0.         0.55555556 1.11111111 1.66666667 2.22222222 2.77777778\n",
      " 3.33333333 3.88888889 4.44444444 5.        ]\n",
      "\n",
      "---reshaping array---\n",
      "from\n",
      "[[1 2 3 4]\n",
      " [5 2 4 2]\n",
      " [1 2 0 1]]\n",
      "to\n",
      "[[[1 2 3]\n",
      "  [4 5 2]]\n",
      "\n",
      " [[4 2 1]\n",
      "  [2 0 1]]]\n",
      "---flatten array---\n",
      "from\n",
      "[[1 2 3]\n",
      " [4 5 6]]\n",
      "to\n",
      "[1 2 3 4 5 6]\n"
     ]
    }
   ],
   "source": [
    "import numpy as np\n",
    "\n",
    "print('---array creation using list---')\n",
    "a = np.array([[1, 2, 4],\n",
    "              [5, 8, 7]], dtype='float')\n",
    "print(f'{a}\\n')\n",
    "\n",
    "print('---array creation using tuple---')\n",
    "b = np.array(((1, 2, 3),\n",
    "             (5, 8, 7)), dtype='float')\n",
    "print(f'{b}\\n')\n",
    "\n",
    "print('---array creation initialized with zeros---')\n",
    "c = np.zeros((2, 3), dtype='float')\n",
    "print(f'{c}\\n')\n",
    "\n",
    "print('---array creation initialized specific value which data type is complex number---')\n",
    "d = np.full((2, 3), 6, dtype='complex')\n",
    "print(f'{d}\\n')\n",
    "\n",
    "print('--array creation initialized with random values')\n",
    "e = np.random.random((2, 2))\n",
    "print(f'{e}\\n')\n",
    "\n",
    "print('---array creation of sequence of numbers i.e. like range() built-in python function---')\n",
    "f = np.arange(0, 30, 5) # start, end, step\n",
    "print(f'{f}\\n')\n",
    "\n",
    "print('---array creation of sequence of values evenly spaced---')\n",
    "g = np.linspace(0, 5, 10)\n",
    "print(f'{g}\\n')\n",
    "\n",
    "# reshaping\n",
    "print('---reshaping array---')\n",
    "foo = np.array([[1, 2, 3, 4],\n",
    "                [5, 2, 4, 2],\n",
    "                [1, 2, 0, 1]])\n",
    "bar = foo.reshape(2, 2, 3)\n",
    "print('from')\n",
    "print(foo)\n",
    "print('to')\n",
    "print(bar)\n",
    "\n",
    "# flatten\n",
    "print('---flatten array---')\n",
    "baz = np.array([[1, 2, 3],\n",
    "                [4, 5, 6]])\n",
    "print('from')\n",
    "print(baz)\n",
    "print('to')\n",
    "flt = baz.flatten()\n",
    "print(flt)"
   ],
   "metadata": {
    "collapsed": false,
    "pycharm": {
     "name": "#%%\n"
    }
   }
  },
  {
   "cell_type": "code",
   "execution_count": null,
   "outputs": [],
   "source": [],
   "metadata": {
    "collapsed": false,
    "pycharm": {
     "name": "#%%\n"
    }
   }
  }
 ],
 "metadata": {
  "kernelspec": {
   "display_name": "Python 3",
   "language": "python",
   "name": "python3"
  },
  "language_info": {
   "codemirror_mode": {
    "name": "ipython",
    "version": 2
   },
   "file_extension": ".py",
   "mimetype": "text/x-python",
   "name": "python",
   "nbconvert_exporter": "python",
   "pygments_lexer": "ipython2",
   "version": "2.7.6"
  }
 },
 "nbformat": 4,
 "nbformat_minor": 0
}