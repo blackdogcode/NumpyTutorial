{
 "cells": [
  {
   "cell_type": "markdown",
   "source": [
    "### Python Array Module for Creating Array"
   ],
   "metadata": {
    "collapsed": false,
    "pycharm": {
     "name": "#%% md\n"
    }
   }
  },
  {
   "cell_type": "code",
   "execution_count": 4,
   "outputs": [
    {
     "name": "stdout",
     "output_type": "stream",
     "text": [
      "Created Array: 1 2 3 4 5 "
     ]
    }
   ],
   "source": [
    "import array\n",
    "\n",
    "foo = array.array('i', [1, 2, 3, 4, 5])\n",
    "print('Created Array:', end=' ')\n",
    "for num in foo:\n",
    "    print(num, end=' ')"
   ],
   "metadata": {
    "collapsed": false,
    "pycharm": {
     "name": "#%%\n"
    }
   }
  },
  {
   "cell_type": "markdown",
   "source": [
    "### Numpy Module for Creating Array"
   ],
   "metadata": {
    "collapsed": false,
    "pycharm": {
     "name": "#%% md\n"
    }
   }
  },
  {
   "cell_type": "code",
   "execution_count": 35,
   "outputs": [
    {
     "name": "stdout",
     "output_type": "stream",
     "text": [
      "[[4128860 6029375 3801155]\n",
      " [5570652 6619251 7536754]\n",
      " [      0   32762       0]] \n",
      "\n",
      "[[0. 0. 0.]\n",
      " [0. 0. 0.]\n",
      " [0. 0. 0.]] \n",
      "\n"
     ]
    }
   ],
   "source": [
    "import numpy as np\n",
    "\n",
    "# random values\n",
    "foo = np.empty([3, 3], dtype=int)\n",
    "print(foo, '\\n')\n",
    "\n",
    "# zero values\n",
    "bar = np.zeros([3, 3], dtype=float)\n",
    "print(bar, '\\n')"
   ],
   "metadata": {
    "collapsed": false,
    "pycharm": {
     "name": "#%%\n"
    }
   }
  },
  {
   "cell_type": "code",
   "execution_count": 43,
   "outputs": [
    {
     "name": "stdout",
     "output_type": "stream",
     "text": [
      "[0 1 2 3 4 5 6 7] \n",
      "\n",
      "[[0 1 2 3]\n",
      " [4 5 6 7]] \n",
      "\n",
      "[[0 1]\n",
      " [2 3]\n",
      " [4 5]\n",
      " [6 7]] \n",
      "\n",
      "[[[0 1]\n",
      "  [2 3]]\n",
      "\n",
      " [[4 5]\n",
      "  [6 7]]]\n"
     ]
    }
   ],
   "source": [
    "import numpy as np\n",
    "\n",
    "foo = np.arange(8)\n",
    "print(foo, '\\n')\n",
    "\n",
    "bar = np.reshape(foo, (2,4))\n",
    "print(bar, '\\n')\n",
    "\n",
    "baz = np.reshape(foo, (4, 2))\n",
    "print(baz, '\\n')\n",
    "\n",
    "tar = np.reshape(foo, (2, 2, 2))\n",
    "print(tar)"
   ],
   "metadata": {
    "collapsed": false,
    "pycharm": {
     "name": "#%%\n"
    }
   }
  },
  {
   "cell_type": "markdown",
   "source": [
    "### numpy.arrange(start, end, step)"
   ],
   "metadata": {
    "collapsed": false,
    "pycharm": {
     "name": "#%% md\n"
    }
   }
  },
  {
   "cell_type": "code",
   "execution_count": 47,
   "outputs": [
    {
     "name": "stdout",
     "output_type": "stream",
     "text": [
      "[0 2 4 6 8]\n",
      "[0.  0.1 0.2 0.3 0.4 0.5 0.6 0.7 0.8 0.9]\n"
     ]
    }
   ],
   "source": [
    "import numpy as np\n",
    "\n",
    "start, end, step = 0, 10, 2\n",
    "print(np.arange(start, end ,step))\n",
    "\n",
    "start, end, step = 0, 1, 0.1 # float available which is not built-in range() function\n",
    "print(np.arange(start, end, step))"
   ],
   "metadata": {
    "collapsed": false,
    "pycharm": {
     "name": "#%%\n"
    }
   }
  },
  {
   "cell_type": "markdown",
   "source": [
    "### numpy.zeros()"
   ],
   "metadata": {
    "collapsed": false,
    "pycharm": {
     "name": "#%% md\n"
    }
   }
  },
  {
   "cell_type": "code",
   "execution_count": 57,
   "outputs": [
    {
     "name": "stdout",
     "output_type": "stream",
     "text": [
      "[[0. 0. 0.]\n",
      " [0. 0. 0.]\n",
      " [0. 0. 0.]] \n",
      "\n",
      "[(0., 0) (0., 0)]\n"
     ]
    }
   ],
   "source": [
    "import numpy as np\n",
    "\n",
    "foo = np.zeros((3, 3))\n",
    "print(foo, '\\n')\n",
    "\n",
    "bar = np.zeros((2,), dtype=[('x', 'float'), ('y', 'int')])\n",
    "print(bar)"
   ],
   "metadata": {
    "collapsed": false,
    "pycharm": {
     "name": "#%%\n"
    }
   }
  },
  {
   "cell_type": "markdown",
   "source": [
    "### numpy.ones()"
   ],
   "metadata": {
    "collapsed": false,
    "pycharm": {
     "name": "#%% md\n"
    }
   }
  },
  {
   "cell_type": "code",
   "execution_count": 59,
   "outputs": [
    {
     "name": "stdout",
     "output_type": "stream",
     "text": [
      "[1 1 1] \n",
      "\n",
      "[[1. 1. 1.]\n",
      " [1. 1. 1.]\n",
      " [1. 1. 1.]]\n"
     ]
    }
   ],
   "source": [
    "import numpy as np\n",
    "\n",
    "foo = np.ones(3, dtype=int)\n",
    "print(foo, '\\n')\n",
    "\n",
    "bar = np.ones((3, 3), dtype=float)\n",
    "print(bar)"
   ],
   "metadata": {
    "collapsed": false,
    "pycharm": {
     "name": "#%%\n"
    }
   }
  },
  {
   "cell_type": "markdown",
   "source": [
    "### numpy.eye()"
   ],
   "metadata": {
    "collapsed": false,
    "pycharm": {
     "name": "#%% md\n"
    }
   }
  },
  {
   "cell_type": "code",
   "execution_count": 66,
   "outputs": [
    {
     "name": "stdout",
     "output_type": "stream",
     "text": [
      "[[1. 0. 0. 0. 0.]\n",
      " [0. 1. 0. 0. 0.]\n",
      " [0. 0. 1. 0. 0.]\n",
      " [0. 0. 0. 1. 0.]\n",
      " [0. 0. 0. 0. 1.]] \n",
      "\n",
      "[[0. 1. 0. 0. 0.]\n",
      " [0. 0. 1. 0. 0.]\n",
      " [0. 0. 0. 1. 0.]\n",
      " [0. 0. 0. 0. 1.]\n",
      " [0. 0. 0. 0. 0.]] \n",
      "\n",
      "[[0. 0. 0. 0. 0.]\n",
      " [1. 0. 0. 0. 0.]\n",
      " [0. 1. 0. 0. 0.]\n",
      " [0. 0. 1. 0. 0.]\n",
      " [0. 0. 0. 1. 0.]] \n",
      "\n",
      "[[1. 0. 0.]\n",
      " [0. 1. 0.]\n",
      " [0. 0. 1.]\n",
      " [0. 0. 0.]\n",
      " [0. 0. 0.]] \n",
      "\n"
     ]
    }
   ],
   "source": [
    "import numpy as np\n",
    "\n",
    "print(np.eye(5,), '\\n')\n",
    "\n",
    "print(np.eye(5, k=1), '\\n')\n",
    "\n",
    "print(np.eye(5, k=-1), '\\n')\n",
    "\n",
    "print(np.eye(5,3), '\\n')"
   ],
   "metadata": {
    "collapsed": false,
    "pycharm": {
     "name": "#%%\n"
    }
   }
  },
  {
   "cell_type": "markdown",
   "source": [
    "###  numpy.full()"
   ],
   "metadata": {
    "collapsed": false,
    "pycharm": {
     "name": "#%% md\n"
    }
   }
  },
  {
   "cell_type": "code",
   "execution_count": 71,
   "outputs": [
    {
     "data": {
      "text/plain": "array([[7, 7, 7],\n       [7, 7, 7],\n       [7, 7, 7],\n       [7, 7, 7],\n       [7, 7, 7]])"
     },
     "execution_count": 71,
     "metadata": {},
     "output_type": "execute_result"
    }
   ],
   "source": [
    "import numpy as np\n",
    "\n",
    "np.full((5,3), 7)"
   ],
   "metadata": {
    "collapsed": false,
    "pycharm": {
     "name": "#%%\n"
    }
   }
  },
  {
   "cell_type": "markdown",
   "source": [
    "### Numpy Meshgrid function"
   ],
   "metadata": {
    "collapsed": false,
    "pycharm": {
     "name": "#%% md\n"
    }
   }
  },
  {
   "cell_type": "code",
   "execution_count": 74,
   "outputs": [
    {
     "name": "stdout",
     "output_type": "stream",
     "text": [
      "[[-4. -3. -2. -1.  0.  1.  2.  3.  4.]\n",
      " [-4. -3. -2. -1.  0.  1.  2.  3.  4.]\n",
      " [-4. -3. -2. -1.  0.  1.  2.  3.  4.]\n",
      " [-4. -3. -2. -1.  0.  1.  2.  3.  4.]\n",
      " [-4. -3. -2. -1.  0.  1.  2.  3.  4.]\n",
      " [-4. -3. -2. -1.  0.  1.  2.  3.  4.]\n",
      " [-4. -3. -2. -1.  0.  1.  2.  3.  4.]\n",
      " [-4. -3. -2. -1.  0.  1.  2.  3.  4.]\n",
      " [-4. -3. -2. -1.  0.  1.  2.  3.  4.]\n",
      " [-4. -3. -2. -1.  0.  1.  2.  3.  4.]\n",
      " [-4. -3. -2. -1.  0.  1.  2.  3.  4.]] \n",
      "\n",
      "[[-5. -5. -5. -5. -5. -5. -5. -5. -5.]\n",
      " [-4. -4. -4. -4. -4. -4. -4. -4. -4.]\n",
      " [-3. -3. -3. -3. -3. -3. -3. -3. -3.]\n",
      " [-2. -2. -2. -2. -2. -2. -2. -2. -2.]\n",
      " [-1. -1. -1. -1. -1. -1. -1. -1. -1.]\n",
      " [ 0.  0.  0.  0.  0.  0.  0.  0.  0.]\n",
      " [ 1.  1.  1.  1.  1.  1.  1.  1.  1.]\n",
      " [ 2.  2.  2.  2.  2.  2.  2.  2.  2.]\n",
      " [ 3.  3.  3.  3.  3.  3.  3.  3.  3.]\n",
      " [ 4.  4.  4.  4.  4.  4.  4.  4.  4.]\n",
      " [ 5.  5.  5.  5.  5.  5.  5.  5.  5.]] \n",
      "\n"
     ]
    },
    {
     "data": {
      "text/plain": "<Figure size 640x480 with 2 Axes>",
      "image/png": "[encoded data removed]"
     },
     "metadata": {},
     "output_type": "display_data"
    }
   ],
   "source": [
    "import numpy as np\n",
    "from matplotlib import pyplot as plt\n",
    "\n",
    "x = np.linspace(-4, 4, 9)\n",
    "y = np.linspace(-5, 5, 11)\n",
    "\n",
    "x_1, y_1 = np.meshgrid(x, y)\n",
    "\n",
    "print(x_1, '\\n')\n",
    "print(y_1, '\\n')\n",
    "\n",
    "random_data = np.random.random((11, 9))\n",
    "plt.contourf(x_1, y_1, random_data, cmap='jet')\n",
    "plt.colorbar()\n",
    "plt.show()"
   ],
   "metadata": {
    "collapsed": false,
    "pycharm": {
     "name": "#%%\n"
    }
   }
  },
  {
   "cell_type": "code",
   "execution_count": null,
   "outputs": [],
   "source": [],
   "metadata": {
    "collapsed": false,
    "pycharm": {
     "name": "#%%\n"
    }
   }
  },
  {
   "cell_type": "code",
   "execution_count": null,
   "outputs": [],
   "source": [],
   "metadata": {
    "collapsed": false,
    "pycharm": {
     "name": "#%%\n"
    }
   }
  },
  {
   "cell_type": "code",
   "execution_count": null,
   "outputs": [],
   "source": [],
   "metadata": {
    "collapsed": false,
    "pycharm": {
     "name": "#%%\n"
    }
   }
  },
  {
   "cell_type": "code",
   "execution_count": null,
   "outputs": [],
   "source": [],
   "metadata": {
    "collapsed": false,
    "pycharm": {
     "name": "#%%\n"
    }
   }
  }
 ],
 "metadata": {
  "kernelspec": {
   "display_name": "Python 3",
   "language": "python",
   "name": "python3"
  },
  "language_info": {
   "codemirror_mode": {
    "name": "ipython",
    "version": 2
   },
   "file_extension": ".py",
   "mimetype": "text/x-python",
   "name": "python",
   "nbconvert_exporter": "python",
   "pygments_lexer": "ipython2",
   "version": "2.7.6"
  }
 },
 "nbformat": 4,
 "nbformat_minor": 0
}